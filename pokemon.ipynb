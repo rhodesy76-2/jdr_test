{
 "cells": [
  {
   "cell_type": "code",
   "execution_count": 5,
   "metadata": {},
   "outputs": [
    {
     "ename": "ModuleNotFoundError",
     "evalue": "No module named 'requests'",
     "output_type": "error",
     "traceback": [
      "\u001b[0;31m---------------------------------------------------------------------------\u001b[0m",
      "\u001b[0;31mModuleNotFoundError\u001b[0m                       Traceback (most recent call last)",
      "\u001b[0;32m/var/folders/7g/pm4zgtxn2mg4xd49lg2955c80000gp/T/ipykernel_24822/1874910517.py\u001b[0m in \u001b[0;36m<module>\u001b[0;34m\u001b[0m\n\u001b[0;32m----> 1\u001b[0;31m \u001b[0;32mimport\u001b[0m \u001b[0mrequests\u001b[0m\u001b[0;34m\u001b[0m\u001b[0;34m\u001b[0m\u001b[0m\n\u001b[0m",
      "\u001b[0;31mModuleNotFoundError\u001b[0m: No module named 'requests'"
     ]
    }
   ],
   "source": [
    "\n",
    "import requests"
   ]
  },
  {
   "cell_type": "code",
   "execution_count": 3,
   "metadata": {},
   "outputs": [
    {
     "ename": "NameError",
     "evalue": "name 'requests' is not defined",
     "output_type": "error",
     "traceback": [
      "\u001b[0;31m---------------------------------------------------------------------------\u001b[0m",
      "\u001b[0;31mNameError\u001b[0m                                 Traceback (most recent call last)",
      "\u001b[0;32m/var/folders/7g/pm4zgtxn2mg4xd49lg2955c80000gp/T/ipykernel_22988/1952198035.py\u001b[0m in \u001b[0;36m<module>\u001b[0;34m\u001b[0m\n\u001b[1;32m      1\u001b[0m \u001b[0mendpoint\u001b[0m \u001b[0;34m=\u001b[0m \u001b[0;34m\"https://pokeapi.co/api/v2/pokemon/25\"\u001b[0m\u001b[0;34m\u001b[0m\u001b[0;34m\u001b[0m\u001b[0m\n\u001b[0;32m----> 2\u001b[0;31m \u001b[0mr\u001b[0m \u001b[0;34m=\u001b[0m \u001b[0mrequests\u001b[0m\u001b[0;34m.\u001b[0m\u001b[0mget\u001b[0m\u001b[0;34m(\u001b[0m\u001b[0mendpoint\u001b[0m\u001b[0;34m)\u001b[0m\u001b[0;34m\u001b[0m\u001b[0;34m\u001b[0m\u001b[0m\n\u001b[0m\u001b[1;32m      3\u001b[0m \u001b[0mpokemon_r\u001b[0m \u001b[0;34m=\u001b[0m \u001b[0mr\u001b[0m\u001b[0;34m.\u001b[0m\u001b[0mjson\u001b[0m\u001b[0;34m(\u001b[0m\u001b[0;34m)\u001b[0m\u001b[0;34m\u001b[0m\u001b[0;34m\u001b[0m\u001b[0m\n",
      "\u001b[0;31mNameError\u001b[0m: name 'requests' is not defined"
     ]
    }
   ],
   "source": [
    "endpoint = \"https://pokeapi.co/api/v2/pokemon/25\"\n",
    "r = requests.get(endpoint)\n",
    "pokemon_r = r.json()"
   ]
  },
  {
   "cell_type": "code",
   "execution_count": 7,
   "metadata": {},
   "outputs": [
    {
     "ename": "SyntaxError",
     "evalue": "invalid syntax (950890279.py, line 8)",
     "output_type": "error",
     "traceback": [
      "\u001b[0;36m  File \u001b[0;32m\"/var/folders/7g/pm4zgtxn2mg4xd49lg2955c80000gp/T/ipykernel_24132/950890279.py\"\u001b[0;36m, line \u001b[0;32m8\u001b[0m\n\u001b[0;31m    pokemon_r['sprites'][back_default]\u001b[0m\n\u001b[0m            ^\u001b[0m\n\u001b[0;31mSyntaxError\u001b[0m\u001b[0;31m:\u001b[0m invalid syntax\n"
     ]
    }
   ],
   "source": [
    "dict_links = {}\n",
    "for n in range(1,151):\n",
    "    endpoint = \"https://pokeapi.co/api/v2/pokemon/25\"\n",
    "    r = requests.get(endpoint)\n",
    "    pokemon_r = r.json()\n",
    "    dict_links[pokemlon_['name']] = [\n",
    "                                        pokemon_r['sprites'][front_default]\n",
    "                                        pokemon_r['sprites'][back_default]\n",
    "                                        ]"
   ]
  },
  {
   "cell_type": "code",
   "execution_count": null,
   "metadata": {},
   "outputs": [],
   "source": [
    "for key in dict_links:\n",
    "    image_front =dict_links[key][0]\n",
    "    image_back =dict_links[key][0]\n",
    "\n",
    "    img_data =requests.get(image_front).content\n",
    "    with open(f'pokemon_sprites/{key}\")_back.jpg', "
   ]
  },
  {
   "cell_type": "code",
   "execution_count": 1,
   "metadata": {},
   "outputs": [
    {
     "ename": "NameError",
     "evalue": "name 'r' is not defined",
     "output_type": "error",
     "traceback": [
      "\u001b[0;31m---------------------------------------------------------------------------\u001b[0m",
      "\u001b[0;31mNameError\u001b[0m                                 Traceback (most recent call last)",
      "\u001b[0;32m/var/folders/7g/pm4zgtxn2mg4xd49lg2955c80000gp/T/ipykernel_24132/3146036568.py\u001b[0m in \u001b[0;36m<module>\u001b[0;34m\u001b[0m\n\u001b[0;32m----> 1\u001b[0;31m \u001b[0mr\u001b[0m\u001b[0;34m.\u001b[0m\u001b[0mjson\u001b[0m\u001b[0;34m(\u001b[0m\u001b[0;34m)\u001b[0m\u001b[0;34m.\u001b[0m\u001b[0mkeys\u001b[0m\u001b[0;34m(\u001b[0m\u001b[0;34m)\u001b[0m\u001b[0;34m\u001b[0m\u001b[0;34m\u001b[0m\u001b[0m\n\u001b[0m",
      "\u001b[0;31mNameError\u001b[0m: name 'r' is not defined"
     ]
    }
   ],
   "source": [
    "r.json().keys()"
   ]
  },
  {
   "cell_type": "code",
   "execution_count": null,
   "metadata": {},
   "outputs": [],
   "source": [
    "pokemon_r['sprites'][back_default]"
   ]
  },
  {
   "cell_type": "code",
   "execution_count": 18,
   "metadata": {},
   "outputs": [],
   "source": [
    "\n",
    "\n",
    "class Pokemon:\n",
    "    def __init__(self, \n",
    "                name, \n",
    "                attack_points, \n",
    "                defence_points, \n",
    "                health_points\n",
    "                ):\n",
    "        self.name = name\n",
    "        self.attack_points = attack_points\n",
    "        self.defence_points = defence_points\n",
    "        self.health_points = health_points\n",
    "        self.say_hello()\n",
    "\n",
    "    def say_hello(self):\n",
    "        print(f\"Hey I am {self.name}\")\n"
   ]
  },
  {
   "cell_type": "code",
   "execution_count": 50,
   "metadata": {},
   "outputs": [],
   "source": [
    "#dataclasses/ dataclass shortcut\n",
    "from dataclasses import dataclass\n",
    "@dataclass\n",
    "class Pokemon:\n",
    "    name: str\n",
    "    attack_points: int\n",
    "    defence_points: int \n",
    "    health_points: int\n",
    "    moves: list \n",
    "    elemental_type: str\n",
    "    \n",
    "    def attack(self, other):\n",
    "        if move.elemental_type\n",
    "        print(f'{self.name} attacked {other.name}')\n",
    "        other.health_points -= self.attack_points\n",
    "\n",
    "    def __repr__(self) -> str:\n",
    "        return f\"This is a {self.name} and it has {self.attack_points} attack points\"\n",
    "\n",
    "    def __gt__(self, other):\n",
    "        return self.health_points > other.health_points\n",
    "\n",
    "\n",
    "class Move:\n",
    "    def __init__(self, attack_points, elemental_type):\n",
    "        self.attack_points = attack_points\n",
    "        self.elemental_type = elemental_type\n",
    "    def display(self):\n",
    "        print(\"This ia a move\")\n",
    "\n",
    "class FireMove(Move):\n",
    "    def __init__(self, attack_points):\n",
    "        super().__init__(attack_points, \"Fire\")\n",
    "    \n",
    "class WaterMove(Move):\n",
    "    def __init__(self, attack_points):\n",
    "        super().__init__(attack_points, \"Water\")\n",
    "\n",
    "class GrassMove(Move):\n",
    "    def __init__(self, attack_points):\n",
    "        super().__init__(attack_points, \"Grass\")\n",
    "\n",
    "\n",
    "\n",
    "\n",
    "\n",
    "\n",
    "\n"
   ]
  },
  {
   "cell_type": "code",
   "execution_count": 54,
   "metadata": {},
   "outputs": [],
   "source": [
    "class Elememntal:\n",
    "    def __init__(self, name):\n",
    "        self.name = name\n",
    "    def __gt__(self, other):\n",
    "        if self.name == \"Grass\" and other.name == \"Water\":\n",
    "            return True\n",
    "        elif self.name == \"Grass\" and other.name == \"Fire\":\n",
    "            return False\n",
    "        elif self.name == \"Water\" and other.name == \"Fire\":\n",
    "            return True\n",
    "        elif self.name == \"Water\" and other.name == \"Grass\":\n",
    "            return False\n",
    "        elif self.name == \"Fire\" and other.name == \"Grass\":\n",
    "            return True\n",
    "        elif self.name == \"Fire\" and other.name == \"Water\":\n",
    "            return False"
   ]
  },
  {
   "cell_type": "code",
   "execution_count": 51,
   "metadata": {},
   "outputs": [
    {
     "name": "stdout",
     "output_type": "stream",
     "text": [
      "This ia a move\n"
     ]
    }
   ],
   "source": [
    "tackle = Move(40, \"Normal\")\n",
    "flamethrower = FireMove(90)\n",
    "water_gun = WaterMove(80)\n",
    "mow_grass =GrassMove(60)"
   ]
  },
  {
   "cell_type": "code",
   "execution_count": 53,
   "metadata": {},
   "outputs": [
    {
     "name": "stdout",
     "output_type": "stream",
     "text": [
      "This ia a move\n"
     ]
    }
   ],
   "source": [
    "tackle.display()"
   ]
  },
  {
   "cell_type": "code",
   "execution_count": 43,
   "metadata": {},
   "outputs": [],
   "source": [
    "pikachu = Pokemon(\"Pikachu\", attack_points=55, defence_points=40,health_points=100, moves=[])\n",
    "charmander = Pokemon(\"Charmander\", attack_points= 65, defence_points=55, health_points=120, moves=[])"
   ]
  },
  {
   "cell_type": "code",
   "execution_count": 46,
   "metadata": {},
   "outputs": [
    {
     "data": {
      "text/plain": [
       "'Pikachu'"
      ]
     },
     "execution_count": 46,
     "metadata": {},
     "output_type": "execute_result"
    }
   ],
   "source": [
    "pikachu.name"
   ]
  },
  {
   "cell_type": "code",
   "execution_count": 9,
   "metadata": {},
   "outputs": [
    {
     "data": {
      "text/plain": [
       "'Charmander'"
      ]
     },
     "execution_count": 9,
     "metadata": {},
     "output_type": "execute_result"
    }
   ],
   "source": [
    "charmander.name"
   ]
  },
  {
   "cell_type": "code",
   "execution_count": 36,
   "metadata": {},
   "outputs": [
    {
     "name": "stdout",
     "output_type": "stream",
     "text": [
      "This is a Charmander and it has 65 attack points\n"
     ]
    }
   ],
   "source": [
    "print(charmander)\n"
   ]
  },
  {
   "cell_type": "code",
   "execution_count": 37,
   "metadata": {},
   "outputs": [
    {
     "data": {
      "text/plain": [
       "This is a Charmander and it has 65 attack points"
      ]
     },
     "execution_count": 37,
     "metadata": {},
     "output_type": "execute_result"
    }
   ],
   "source": [
    "charmander\n",
    "\n"
   ]
  },
  {
   "cell_type": "code",
   "execution_count": 38,
   "metadata": {},
   "outputs": [
    {
     "name": "stdout",
     "output_type": "stream",
     "text": [
      "Pikachu attacked Charmander\n"
     ]
    }
   ],
   "source": [
    "pikachu.attack(charmander)"
   ]
  },
  {
   "cell_type": "code",
   "execution_count": 12,
   "metadata": {},
   "outputs": [
    {
     "data": {
      "text/plain": [
       "65"
      ]
     },
     "execution_count": 12,
     "metadata": {},
     "output_type": "execute_result"
    }
   ],
   "source": [
    "charmander.health_points"
   ]
  },
  {
   "cell_type": "code",
   "execution_count": 39,
   "metadata": {},
   "outputs": [
    {
     "name": "stdout",
     "output_type": "stream",
     "text": [
      "Pikachu attacked Charmander\n",
      "Pikachu attacked Charmander\n",
      "Charmander died, Pikachu won and some random trainer is now crying\n"
     ]
    }
   ],
   "source": [
    "while charmander.health_points > 0 or charmander.health_points > 0:\n",
    "    pikachu.attack(charmander)\n",
    "    if charmander.health_points <=0:\n",
    "        print(\"Charmander died, Pikachu won and some random trainer is now crying\")\n",
    "        break\n",
    "    charmander.attack\n",
    "    if pikachu.health_points <=0:\n",
    "        print(\"Pikachu died, Charmander won and some random trainer is now crying\")\n",
    "        break"
   ]
  },
  {
   "cell_type": "code",
   "execution_count": 41,
   "metadata": {},
   "outputs": [],
   "source": [
    "\n",
    "def battle(pokemon_1, pokemon_2):\n",
    "    while True:\n",
    "        pokemon_1.attack(pokemon_2)\n",
    "        if pokemon_2.health_points <=0:\n",
    "            print(f\"{pokemon_2.name} died, {pokemon_1.name} won and some random trainer is now crying\")\n",
    "            break\n",
    "        pokemon_2.attack(pokemon_1)\n",
    "        if pokemon_1.health_points <=0:\n",
    "            print(f\"{pokemon_1.name} died, {pokemon_2.name} won and some random trainer is now crying\")\n",
    "            break"
   ]
  },
  {
   "cell_type": "code",
   "execution_count": 42,
   "metadata": {},
   "outputs": [
    {
     "name": "stdout",
     "output_type": "stream",
     "text": [
      "Pikachu attacked Charmander\n",
      "Charmander died, Pikachu won and some random trainer is now crying\n"
     ]
    }
   ],
   "source": [
    "battle(pikachu, charmander)"
   ]
  },
  {
   "cell_type": "code",
   "execution_count": 25,
   "metadata": {},
   "outputs": [
    {
     "name": "stdout",
     "output_type": "stream",
     "text": [
      "Pokemon(name='Charmander', attack_points=65, defence_points=55, health_points=10, moves=[])\n"
     ]
    }
   ],
   "source": [
    "print(charmander)\n"
   ]
  }
 ],
 "metadata": {
  "kernelspec": {
   "display_name": "Python 3.7.2 64-bit",
   "language": "python",
   "name": "python3"
  },
  "language_info": {
   "codemirror_mode": {
    "name": "ipython",
    "version": 3
   },
   "file_extension": ".py",
   "mimetype": "text/x-python",
   "name": "python",
   "nbconvert_exporter": "python",
   "pygments_lexer": "ipython3",
   "version": "3.7.2"
  },
  "orig_nbformat": 4,
  "vscode": {
   "interpreter": {
    "hash": "aee8b7b246df8f9039afb4144a1f6fd8d2ca17a180786b69acc140d282b71a49"
   }
  }
 },
 "nbformat": 4,
 "nbformat_minor": 2
}
